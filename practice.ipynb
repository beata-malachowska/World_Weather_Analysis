{
 "cells": [
  {
   "cell_type": "code",
   "execution_count": 3,
   "id": "24c0843d",
   "metadata": {},
   "outputs": [],
   "source": [
    "# Import the random module.\n",
    "import random"
   ]
  },
  {
   "cell_type": "code",
   "execution_count": 6,
   "id": "0ac7e4fa",
   "metadata": {},
   "outputs": [
    {
     "data": {
      "text/plain": [
       "-56"
      ]
     },
     "execution_count": 6,
     "metadata": {},
     "output_type": "execute_result"
    }
   ],
   "source": [
    "random.randint(-90, 90)"
   ]
  },
  {
   "cell_type": "code",
   "execution_count": 7,
   "id": "d15aa799",
   "metadata": {},
   "outputs": [
    {
     "data": {
      "text/plain": [
       "0.3061403649296799"
      ]
     },
     "execution_count": 7,
     "metadata": {},
     "output_type": "execute_result"
    }
   ],
   "source": [
    "random.random()"
   ]
  },
  {
   "cell_type": "code",
   "execution_count": 8,
   "id": "50fad5f1",
   "metadata": {},
   "outputs": [],
   "source": [
    "random_number = random.randint(-90, 89) +random.random()"
   ]
  },
  {
   "cell_type": "code",
   "execution_count": 10,
   "id": "7ba6bf82",
   "metadata": {},
   "outputs": [],
   "source": [
    "x = 1\n",
    "latitudes = []\n",
    "while x < 11:\n",
    "    random_lat = random.randint(-90, 89) + random.random()\n",
    "    latitudes.append(random_lat)\n",
    "    x += 1"
   ]
  },
  {
   "cell_type": "code",
   "execution_count": 11,
   "id": "1d162b0a",
   "metadata": {},
   "outputs": [
    {
     "data": {
      "text/plain": [
       "[77.56636272658172,\n",
       " 2.3296420807048763,\n",
       " 46.21253970903084,\n",
       " -49.552179659378005,\n",
       " -3.7571783955419478,\n",
       " -37.26553831553876,\n",
       " 16.769676903513467,\n",
       " -84.82485284089351,\n",
       " 16.376319635400797,\n",
       " -18.229831106596098]"
      ]
     },
     "execution_count": 11,
     "metadata": {},
     "output_type": "execute_result"
    }
   ],
   "source": [
    "latitudes"
   ]
  },
  {
   "cell_type": "code",
   "execution_count": 12,
   "id": "74d44632",
   "metadata": {},
   "outputs": [
    {
     "data": {
      "text/plain": [
       "-72"
      ]
     },
     "execution_count": 12,
     "metadata": {},
     "output_type": "execute_result"
    }
   ],
   "source": [
    "random.randrange(-90, 90, step=3)"
   ]
  },
  {
   "cell_type": "code",
   "execution_count": 13,
   "id": "54bfde17",
   "metadata": {},
   "outputs": [],
   "source": [
    "# Import the NumPy module.\n",
    "import numpy as np"
   ]
  },
  {
   "cell_type": "code",
   "execution_count": 14,
   "id": "6b2e179c",
   "metadata": {},
   "outputs": [
    {
     "data": {
      "text/plain": [
       "-24.768895625771677"
      ]
     },
     "execution_count": 14,
     "metadata": {},
     "output_type": "execute_result"
    }
   ],
   "source": [
    "np.random.uniform(-90.000, 90.000)"
   ]
  },
  {
   "cell_type": "code",
   "execution_count": 15,
   "id": "c32c9100",
   "metadata": {},
   "outputs": [
    {
     "data": {
      "text/plain": [
       "array([ 10.16967869, -75.82083224, -64.53793996,  39.28630215,\n",
       "        -5.06862453,  69.58889196,  23.20528164,  22.54771565,\n",
       "       -30.90061951,  -4.66884139,  41.96495087,  80.32707472,\n",
       "       -75.86907323, -11.73587811, -83.84821679,  39.20956472,\n",
       "        -1.24068792,   3.53091277,  29.91228079,  54.56477736,\n",
       "       -47.45258547,  24.1631104 ,  61.61279243, -48.57198949,\n",
       "       -27.89519508,  29.12918681,  88.81210572, -13.37799586,\n",
       "        33.88011171,  83.64013221,  50.16567168,  36.32236816,\n",
       "        21.70322908,  18.08039847, -81.92285374,  87.13689035,\n",
       "        67.21216937,   6.04680369,  -3.99965755, -75.8880764 ,\n",
       "        89.40328115,  62.87465684,  -6.99736017, -81.42228   ,\n",
       "       -79.02007169, -32.72724946,  63.77373061,  65.9528411 ,\n",
       "        62.4811903 ,  20.92034434])"
      ]
     },
     "execution_count": 15,
     "metadata": {},
     "output_type": "execute_result"
    }
   ],
   "source": [
    "np.random.uniform(-90.000, 90.000, size=50)"
   ]
  },
  {
   "cell_type": "code",
   "execution_count": 16,
   "id": "a40cf561",
   "metadata": {},
   "outputs": [],
   "source": [
    "# Import timeit.\n",
    "import timeit"
   ]
  },
  {
   "cell_type": "code",
   "execution_count": 17,
   "id": "05e99a46",
   "metadata": {},
   "outputs": [
    {
     "name": "stdout",
     "output_type": "stream",
     "text": [
      "20.1 µs ± 3.01 µs per loop (mean ± std. dev. of 7 runs, 100000 loops each)\n"
     ]
    }
   ],
   "source": [
    "%timeit np.random.uniform(-90.000, 90.000, size=1500)"
   ]
  },
  {
   "cell_type": "code",
   "execution_count": 18,
   "id": "0f13793e",
   "metadata": {},
   "outputs": [
    {
     "name": "stdout",
     "output_type": "stream",
     "text": [
      "2.11 ms ± 129 µs per loop (mean ± std. dev. of 7 runs, 100 loops each)\n"
     ]
    }
   ],
   "source": [
    "def latitudes(size):\n",
    "    latitudes = []\n",
    "    x = 0\n",
    "    while x < (size):\n",
    "        random_lat = random.randint(-90, 90) + random.random()\n",
    "        latitudes.append(random_lat)\n",
    "        x += 1\n",
    "    return latitudes\n",
    "# Call the function with 1500.\n",
    "%timeit latitudes(1500)"
   ]
  },
  {
   "cell_type": "code",
   "execution_count": 19,
   "id": "a39053b3",
   "metadata": {},
   "outputs": [],
   "source": []
  },
  {
   "cell_type": "code",
   "execution_count": null,
   "id": "8d2443c8",
   "metadata": {},
   "outputs": [],
   "source": []
  }
 ],
 "metadata": {
  "kernelspec": {
   "display_name": "Python 3 (ipykernel)",
   "language": "python",
   "name": "python3"
  },
  "language_info": {
   "codemirror_mode": {
    "name": "ipython",
    "version": 3
   },
   "file_extension": ".py",
   "mimetype": "text/x-python",
   "name": "python",
   "nbconvert_exporter": "python",
   "pygments_lexer": "ipython3",
   "version": "3.7.11"
  }
 },
 "nbformat": 4,
 "nbformat_minor": 5
}
